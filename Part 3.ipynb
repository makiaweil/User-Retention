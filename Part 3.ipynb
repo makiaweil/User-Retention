{
 "cells": [
  {
   "cell_type": "markdown",
   "metadata": {
    "collapsed": false
   },
   "source": [
    "# Part 3  - Predictive Modeling\n",
    "\n"
   ]
  },
  {
   "cell_type": "code",
   "execution_count": 2,
   "metadata": {
    "collapsed": false
   },
   "outputs": [
    {
     "name": "stderr",
     "output_type": "stream",
     "text": [
      "/Users/michaelweilMichael/anaconda/lib/python3.4/site-packages/pandas/computation/__init__.py:19: UserWarning: The installed version of numexpr 2.4.4 is not supported in pandas and will be not be used\n",
      "\n",
      "  UserWarning)\n"
     ]
    }
   ],
   "source": [
    "%matplotlib inline \n",
    "import matplotlib\n",
    "matplotlib.style.use('ggplot')\n",
    "import matplotlib.pyplot as plt\n",
    "from  datetime import timedelta as td\n",
    "import pandas as pd\n",
    "import numpy as np\n",
    "import json\n",
    "from patsy import dmatrices\n",
    "import statsmodels.discrete.discrete_model as sm\n",
    "from sklearn.preprocessing import robust_scale\n",
    "from sklearn.linear_model import SGDClassifier,LogisticRegression\n",
    "from sklearn.grid_search import GridSearchCV\n",
    "from sklearn.cross_validation import train_test_split\n",
    "from sklearn.metrics import confusion_matrix, classification_report"
   ]
  },
  {
   "cell_type": "markdown",
   "metadata": {},
   "source": [
    "## Loading the Data"
   ]
  },
  {
   "cell_type": "code",
   "execution_count": 3,
   "metadata": {
    "collapsed": true
   },
   "outputs": [],
   "source": [
    "json_request=open('uber_data_challenge.json')\n",
    "json_data = json.load(json_request)\n",
    "data=pd.DataFrame(json_data)\n",
    "json_request.close()"
   ]
  },
  {
   "cell_type": "markdown",
   "metadata": {},
   "source": [
    "First look of the data : "
   ]
  },
  {
   "cell_type": "code",
   "execution_count": 4,
   "metadata": {
    "collapsed": false
   },
   "outputs": [
    {
     "data": {
      "text/html": [
       "<div>\n",
       "<table border=\"1\" class=\"dataframe\">\n",
       "  <thead>\n",
       "    <tr style=\"text-align: right;\">\n",
       "      <th></th>\n",
       "      <th>avg_dist</th>\n",
       "      <th>avg_rating_by_driver</th>\n",
       "      <th>avg_rating_of_driver</th>\n",
       "      <th>avg_surge</th>\n",
       "      <th>city</th>\n",
       "      <th>last_trip_date</th>\n",
       "      <th>phone</th>\n",
       "      <th>signup_date</th>\n",
       "      <th>surge_pct</th>\n",
       "      <th>trips_in_first_30_days</th>\n",
       "      <th>uber_black_user</th>\n",
       "      <th>weekday_pct</th>\n",
       "    </tr>\n",
       "  </thead>\n",
       "  <tbody>\n",
       "    <tr>\n",
       "      <th>0</th>\n",
       "      <td>3.67</td>\n",
       "      <td>5.0</td>\n",
       "      <td>4.7</td>\n",
       "      <td>1.10</td>\n",
       "      <td>King's Landing</td>\n",
       "      <td>2014-06-17</td>\n",
       "      <td>iPhone</td>\n",
       "      <td>2014-01-25</td>\n",
       "      <td>15.4</td>\n",
       "      <td>4</td>\n",
       "      <td>True</td>\n",
       "      <td>46.2</td>\n",
       "    </tr>\n",
       "    <tr>\n",
       "      <th>1</th>\n",
       "      <td>8.26</td>\n",
       "      <td>5.0</td>\n",
       "      <td>5.0</td>\n",
       "      <td>1.00</td>\n",
       "      <td>Astapor</td>\n",
       "      <td>2014-05-05</td>\n",
       "      <td>Android</td>\n",
       "      <td>2014-01-29</td>\n",
       "      <td>0.0</td>\n",
       "      <td>0</td>\n",
       "      <td>False</td>\n",
       "      <td>50.0</td>\n",
       "    </tr>\n",
       "    <tr>\n",
       "      <th>2</th>\n",
       "      <td>0.77</td>\n",
       "      <td>5.0</td>\n",
       "      <td>4.3</td>\n",
       "      <td>1.00</td>\n",
       "      <td>Astapor</td>\n",
       "      <td>2014-01-07</td>\n",
       "      <td>iPhone</td>\n",
       "      <td>2014-01-06</td>\n",
       "      <td>0.0</td>\n",
       "      <td>3</td>\n",
       "      <td>False</td>\n",
       "      <td>100.0</td>\n",
       "    </tr>\n",
       "    <tr>\n",
       "      <th>3</th>\n",
       "      <td>2.36</td>\n",
       "      <td>4.9</td>\n",
       "      <td>4.6</td>\n",
       "      <td>1.14</td>\n",
       "      <td>King's Landing</td>\n",
       "      <td>2014-06-29</td>\n",
       "      <td>iPhone</td>\n",
       "      <td>2014-01-10</td>\n",
       "      <td>20.0</td>\n",
       "      <td>9</td>\n",
       "      <td>True</td>\n",
       "      <td>80.0</td>\n",
       "    </tr>\n",
       "    <tr>\n",
       "      <th>4</th>\n",
       "      <td>3.13</td>\n",
       "      <td>4.9</td>\n",
       "      <td>4.4</td>\n",
       "      <td>1.19</td>\n",
       "      <td>Winterfell</td>\n",
       "      <td>2014-03-15</td>\n",
       "      <td>Android</td>\n",
       "      <td>2014-01-27</td>\n",
       "      <td>11.8</td>\n",
       "      <td>14</td>\n",
       "      <td>False</td>\n",
       "      <td>82.4</td>\n",
       "    </tr>\n",
       "    <tr>\n",
       "      <th>5</th>\n",
       "      <td>10.56</td>\n",
       "      <td>5.0</td>\n",
       "      <td>3.5</td>\n",
       "      <td>1.00</td>\n",
       "      <td>Winterfell</td>\n",
       "      <td>2014-06-06</td>\n",
       "      <td>iPhone</td>\n",
       "      <td>2014-01-09</td>\n",
       "      <td>0.0</td>\n",
       "      <td>2</td>\n",
       "      <td>True</td>\n",
       "      <td>100.0</td>\n",
       "    </tr>\n",
       "    <tr>\n",
       "      <th>6</th>\n",
       "      <td>3.95</td>\n",
       "      <td>4.0</td>\n",
       "      <td>NaN</td>\n",
       "      <td>1.00</td>\n",
       "      <td>Astapor</td>\n",
       "      <td>2014-01-25</td>\n",
       "      <td>Android</td>\n",
       "      <td>2014-01-24</td>\n",
       "      <td>0.0</td>\n",
       "      <td>1</td>\n",
       "      <td>False</td>\n",
       "      <td>100.0</td>\n",
       "    </tr>\n",
       "    <tr>\n",
       "      <th>7</th>\n",
       "      <td>2.04</td>\n",
       "      <td>5.0</td>\n",
       "      <td>5.0</td>\n",
       "      <td>1.00</td>\n",
       "      <td>Winterfell</td>\n",
       "      <td>2014-01-29</td>\n",
       "      <td>iPhone</td>\n",
       "      <td>2014-01-28</td>\n",
       "      <td>0.0</td>\n",
       "      <td>2</td>\n",
       "      <td>False</td>\n",
       "      <td>100.0</td>\n",
       "    </tr>\n",
       "    <tr>\n",
       "      <th>8</th>\n",
       "      <td>4.36</td>\n",
       "      <td>5.0</td>\n",
       "      <td>4.5</td>\n",
       "      <td>1.00</td>\n",
       "      <td>Winterfell</td>\n",
       "      <td>2014-02-01</td>\n",
       "      <td>Android</td>\n",
       "      <td>2014-01-21</td>\n",
       "      <td>0.0</td>\n",
       "      <td>2</td>\n",
       "      <td>False</td>\n",
       "      <td>100.0</td>\n",
       "    </tr>\n",
       "    <tr>\n",
       "      <th>9</th>\n",
       "      <td>2.37</td>\n",
       "      <td>5.0</td>\n",
       "      <td>NaN</td>\n",
       "      <td>1.00</td>\n",
       "      <td>Winterfell</td>\n",
       "      <td>2014-01-05</td>\n",
       "      <td>Android</td>\n",
       "      <td>2014-01-03</td>\n",
       "      <td>0.0</td>\n",
       "      <td>1</td>\n",
       "      <td>False</td>\n",
       "      <td>0.0</td>\n",
       "    </tr>\n",
       "  </tbody>\n",
       "</table>\n",
       "</div>"
      ],
      "text/plain": [
       "   avg_dist  avg_rating_by_driver  avg_rating_of_driver  avg_surge  \\\n",
       "0      3.67                   5.0                   4.7       1.10   \n",
       "1      8.26                   5.0                   5.0       1.00   \n",
       "2      0.77                   5.0                   4.3       1.00   \n",
       "3      2.36                   4.9                   4.6       1.14   \n",
       "4      3.13                   4.9                   4.4       1.19   \n",
       "5     10.56                   5.0                   3.5       1.00   \n",
       "6      3.95                   4.0                   NaN       1.00   \n",
       "7      2.04                   5.0                   5.0       1.00   \n",
       "8      4.36                   5.0                   4.5       1.00   \n",
       "9      2.37                   5.0                   NaN       1.00   \n",
       "\n",
       "             city last_trip_date    phone signup_date  surge_pct  \\\n",
       "0  King's Landing     2014-06-17   iPhone  2014-01-25       15.4   \n",
       "1         Astapor     2014-05-05  Android  2014-01-29        0.0   \n",
       "2         Astapor     2014-01-07   iPhone  2014-01-06        0.0   \n",
       "3  King's Landing     2014-06-29   iPhone  2014-01-10       20.0   \n",
       "4      Winterfell     2014-03-15  Android  2014-01-27       11.8   \n",
       "5      Winterfell     2014-06-06   iPhone  2014-01-09        0.0   \n",
       "6         Astapor     2014-01-25  Android  2014-01-24        0.0   \n",
       "7      Winterfell     2014-01-29   iPhone  2014-01-28        0.0   \n",
       "8      Winterfell     2014-02-01  Android  2014-01-21        0.0   \n",
       "9      Winterfell     2014-01-05  Android  2014-01-03        0.0   \n",
       "\n",
       "   trips_in_first_30_days uber_black_user  weekday_pct  \n",
       "0                       4            True         46.2  \n",
       "1                       0           False         50.0  \n",
       "2                       3           False        100.0  \n",
       "3                       9            True         80.0  \n",
       "4                      14           False         82.4  \n",
       "5                       2            True        100.0  \n",
       "6                       1           False        100.0  \n",
       "7                       2           False        100.0  \n",
       "8                       2           False        100.0  \n",
       "9                       1           False          0.0  "
      ]
     },
     "execution_count": 4,
     "metadata": {},
     "output_type": "execute_result"
    }
   ],
   "source": [
    "data.head(10)"
   ]
  },
  {
   "cell_type": "markdown",
   "metadata": {},
   "source": [
    "We already notice some missing values regarding the average rating given by the user. However, this gives a lot of information about user churn. "
   ]
  },
  {
   "cell_type": "code",
   "execution_count": 5,
   "metadata": {
    "collapsed": false
   },
   "outputs": [
    {
     "data": {
      "text/plain": [
       "<matplotlib.text.Text at 0x1098464e0>"
      ]
     },
     "execution_count": 5,
     "metadata": {},
     "output_type": "execute_result"
    },
    {
     "data": {
      "text/plain": [
       "<matplotlib.figure.Figure at 0x10982e198>"
      ]
     },
     "metadata": {},
     "output_type": "display_data"
    },
    {
     "data": {
      "image/png": "[encoded data removed]",
      "text/plain": [
       "<matplotlib.figure.Figure at 0x1098466d8>"
      ]
     },
     "metadata": {},
     "output_type": "display_data"
    }
   ],
   "source": [
    "plt.figure()\n",
    "histo=data[data.avg_rating_of_driver.isnull()][['avg_rating_by_driver','trips_in_first_30_days']].hist()\n",
    "plt.suptitle('Users with missing information about their average ratings')"
   ]
  },
  {
   "cell_type": "markdown",
   "metadata": {},
   "source": [
    "Based on the histogram of the trips in the first 30 days, information might be missing because the riders did not use the app very often.\n",
    "\n",
    "Looking at the distribution of the ratings received by users with missing information, we notice a few amount of very low ratings (1.0, 2.0). These extreme cases are relevant to our problem of predicting user retention. For instance, a new user might have a very bad experience with the driver during his/her first ride, thus leading to never use the app again. \n",
    "\n",
    "A missing value regarding the average rating by the user can be a good indicator of customer churn. Therefore we decide not to remove the rows but to replace these 'NaN' values by '0'."
   ]
  },
  {
   "cell_type": "code",
   "execution_count": 216,
   "metadata": {
    "collapsed": false
   },
   "outputs": [],
   "source": [
    "data.loc[data.avg_rating_of_driver.isnull(),\"avg_rating_of_driver\"]=0.0"
   ]
  },
  {
   "cell_type": "markdown",
   "metadata": {},
   "source": [
    "Some values about the average rating given by the driver are missing. We decide to perform the same transformation as above."
   ]
  },
  {
   "cell_type": "code",
   "execution_count": 6,
   "metadata": {
    "collapsed": false
   },
   "outputs": [
    {
     "data": {
      "text/plain": [
       "array([[<matplotlib.axes._subplots.AxesSubplot object at 0x113f5cf98>,\n",
       "        <matplotlib.axes._subplots.AxesSubplot object at 0x1168f7a90>]], dtype=object)"
      ]
     },
     "execution_count": 6,
     "metadata": {},
     "output_type": "execute_result"
    },
    {
     "data": {
      "image/png": "[encoded data removed]",
      "text/plain": [
       "<matplotlib.figure.Figure at 0x10982e0b8>"
      ]
     },
     "metadata": {},
     "output_type": "display_data"
    }
   ],
   "source": [
    "data[data.avg_rating_by_driver.isnull()][['avg_rating_of_driver','trips_in_first_30_days']].hist()"
   ]
  },
  {
   "cell_type": "code",
   "execution_count": 218,
   "metadata": {
    "collapsed": true
   },
   "outputs": [],
   "source": [
    "data.loc[data.avg_rating_by_driver.isnull(),\"avg_rating_by_driver\"]=0.0"
   ]
  },
  {
   "cell_type": "markdown",
   "metadata": {},
   "source": [
    "## Distribution of the Covariates"
   ]
  },
  {
   "cell_type": "code",
   "execution_count": 7,
   "metadata": {
    "collapsed": false
   },
   "outputs": [
    {
     "name": "stderr",
     "output_type": "stream",
     "text": [
      "/Users/michaelweilMichael/anaconda/lib/python3.4/site-packages/ipykernel/__main__.py:3: FutureWarning: \n",
      "The default value for 'return_type' will change to 'axes' in a future release.\n",
      " To use the future behavior now, set return_type='axes'.\n",
      " To keep the previous behavior and silence this warning, set return_type='dict'.\n",
      "  app.launch_new_instance()\n",
      "/Users/michaelweilMichael/anaconda/lib/python3.4/site-packages/ipykernel/__main__.py:5: FutureWarning: \n",
      "The default value for 'return_type' will change to 'axes' in a future release.\n",
      " To use the future behavior now, set return_type='axes'.\n",
      " To keep the previous behavior and silence this warning, set return_type='dict'.\n",
      "/Users/michaelweilMichael/anaconda/lib/python3.4/site-packages/ipykernel/__main__.py:7: FutureWarning: \n",
      "The default value for 'return_type' will change to 'axes' in a future release.\n",
      " To use the future behavior now, set return_type='axes'.\n",
      " To keep the previous behavior and silence this warning, set return_type='dict'.\n"
     ]
    },
    {
     "data": {
      "image/png": "[encoded data removed]",
      "text/plain": [
       "<matplotlib.figure.Figure at 0x116a24278>"
      ]
     },
     "metadata": {},
     "output_type": "display_data"
    }
   ],
   "source": [
    "plt.figure()\n",
    "plt.subplot(2,2 , 1)\n",
    "bp1=data.boxplot(column=['avg_dist','trips_in_first_30_days'])\n",
    "plt.subplot(2, 2, 2)\n",
    "bp2=data.boxplot(column=['weekday_pct','surge_pct'])\n",
    "plt.subplot(2, 1, 2)\n",
    "bp3=data.boxplot(column=['avg_rating_by_driver','avg_rating_of_driver'])\n"
   ]
  },
  {
   "cell_type": "markdown",
   "metadata": {
    "collapsed": true
   },
   "source": [
    "The boxplots above show a lot of outliers. Removing the outliers -for instance by keeping the rows in $[Q_1-1.5\\cdot\\text{IQR},Q_3+1.5\\cdot \\text{IQR}]$, will eliminate a high amount of data. Besides, customer retention on outliers is a problem we want to understand. For example, a very high surge percentage can possibly be viewed as a \"bad experience\" that drives away customers.\n",
    "\n",
    "Then outliers are relevant, we decide to keep them.\n"
   ]
  },
  {
   "cell_type": "markdown",
   "metadata": {},
   "source": [
    "## Retention\n",
    "\n",
    "A user is retained when he or she is “active” in the preceding 30 days.\n",
    "The most recent last trip date is July 1st 2014.\n"
   ]
  },
  {
   "cell_type": "code",
   "execution_count": 8,
   "metadata": {
    "collapsed": false
   },
   "outputs": [
    {
     "name": "stdout",
     "output_type": "stream",
     "text": [
      "2014-07-01 00:00:00\n"
     ]
    }
   ],
   "source": [
    "data[['signup_date','last_trip_date']]=data[['signup_date','last_trip_date']].apply(pd.to_datetime)\n",
    "\n",
    "latest_date=max(data.last_trip_date)\n",
    "print(latest_date)\n"
   ]
  },
  {
   "cell_type": "markdown",
   "metadata": {},
   "source": [
    "Then, an active user has his or her last trip 30 days or less before July 1st 2014."
   ]
  },
  {
   "cell_type": "code",
   "execution_count": 9,
   "metadata": {
    "collapsed": false
   },
   "outputs": [],
   "source": [
    "data['retained']=(max(data.last_trip_date)-data.last_trip_date)\n",
    "data['retained']=data['retained']<=td(days=30)\n",
    "data['inactive']=~data['retained']"
   ]
  },
  {
   "cell_type": "markdown",
   "metadata": {
    "collapsed": false
   },
   "source": [
    "## Retention rate\n",
    "\n",
    "About 37.6 % of the users were retained. "
   ]
  },
  {
   "cell_type": "code",
   "execution_count": 10,
   "metadata": {
    "collapsed": false
   },
   "outputs": [
    {
     "data": {
      "text/plain": [
       "0.37608000000000003"
      ]
     },
     "execution_count": 10,
     "metadata": {},
     "output_type": "execute_result"
    }
   ],
   "source": [
    "data.retained.mean()"
   ]
  },
  {
   "cell_type": "markdown",
   "metadata": {},
   "source": [
    "## Cities\n",
    "\n",
    "The data operate in three different cities : Winterfell, King's Landing and Astapor. Each city means a different marketplace with possible insights."
   ]
  },
  {
   "cell_type": "code",
   "execution_count": 11,
   "metadata": {
    "collapsed": false
   },
   "outputs": [],
   "source": [
    "city=data.groupby('city')"
   ]
  },
  {
   "cell_type": "markdown",
   "metadata": {},
   "source": [
    "The statistics of the factors in terms of mean are relatively the same for the three cities. Winterfell users however have a lower surge percentage."
   ]
  },
  {
   "cell_type": "code",
   "execution_count": 12,
   "metadata": {
    "collapsed": false
   },
   "outputs": [
    {
     "data": {
      "image/png": "[encoded data removed]",
      "text/plain": [
       "<matplotlib.figure.Figure at 0x116d21400>"
      ]
     },
     "metadata": {},
     "output_type": "display_data"
    }
   ],
   "source": [
    "ax=city.mean().drop(['retained','inactive','uber_black_user','weekday_pct'],axis=1).plot(kind='bar')\n",
    "handles, labels = ax.get_legend_handles_labels()\n",
    "lgd = ax.legend(handles, labels, loc='center right', bbox_to_anchor=(1.65,0.5))"
   ]
  },
  {
   "cell_type": "markdown",
   "metadata": {},
   "source": [
    "But after looking at the number of retained/inactive users, it seems that King's Landing has more active users than inactive ones. On the contrary, Astapor faces a high ratio of inactive users."
   ]
  },
  {
   "cell_type": "code",
   "execution_count": 13,
   "metadata": {
    "collapsed": false
   },
   "outputs": [
    {
     "data": {
      "text/plain": [
       "<matplotlib.axes._subplots.AxesSubplot at 0x1174c2b70>"
      ]
     },
     "execution_count": 13,
     "metadata": {},
     "output_type": "execute_result"
    },
    {
     "data": {
      "image/png": "[encoded data removed]",
      "text/plain": [
       "<matplotlib.figure.Figure at 0x116ac8f28>"
      ]
     },
     "metadata": {},
     "output_type": "display_data"
    }
   ],
   "source": [
    "city.sum()[['inactive','retained']].plot(kind='bar',stacked=True)"
   ]
  },
  {
   "cell_type": "markdown",
   "metadata": {},
   "source": [
    "## Phone\n",
    "\n",
    "Uber can be installed on  Iphone or  Android. Each OS has slightly different versions of the app, however retention can be explained by this difference, for instance, one version can be slower or less user-friendly than the other. \n"
   ]
  },
  {
   "cell_type": "code",
   "execution_count": 14,
   "metadata": {
    "collapsed": true
   },
   "outputs": [],
   "source": [
    "phone=data.groupby('phone')"
   ]
  },
  {
   "cell_type": "markdown",
   "metadata": {},
   "source": [
    "Again, the metrics are on average the same for iPhone and Android."
   ]
  },
  {
   "cell_type": "code",
   "execution_count": 15,
   "metadata": {
    "collapsed": false
   },
   "outputs": [
    {
     "data": {
      "image/png": "[encoded data removed]",
      "text/plain": [
       "<matplotlib.figure.Figure at 0x1177e9f28>"
      ]
     },
     "metadata": {},
     "output_type": "display_data"
    }
   ],
   "source": [
    "ax2=phone.mean().drop(['retained','inactive','uber_black_user','weekday_pct'],axis=1).plot(kind='bar')\n",
    "handles2, labels2 = ax2.get_legend_handles_labels()\n",
    "lgd2 = ax2.legend(handles2, labels2, loc='center right', bbox_to_anchor=(1.65,0.5))"
   ]
  },
  {
   "cell_type": "markdown",
   "metadata": {},
   "source": [
    "In terms of user retention, we actually observe a high inactive rate for Android users. As mentionned above, this can be due to an issue related to the design of the Android app."
   ]
  },
  {
   "cell_type": "code",
   "execution_count": 229,
   "metadata": {
    "collapsed": false
   },
   "outputs": [
    {
     "data": {
      "text/plain": [
       "<matplotlib.axes._subplots.AxesSubplot at 0x111456d30>"
      ]
     },
     "execution_count": 229,
     "metadata": {},
     "output_type": "execute_result"
    },
    {
     "data": {
      "image/png": "[encoded data removed]",
      "text/plain": [
       "<matplotlib.figure.Figure at 0x110ebfb70>"
      ]
     },
     "metadata": {},
     "output_type": "display_data"
    }
   ],
   "source": [
    "phone.sum()[['inactive','retained']].plot(kind='bar',stacked=True)"
   ]
  },
  {
   "cell_type": "markdown",
   "metadata": {},
   "source": [
    "## Correlation between covariates\n",
    "\n",
    "\n",
    "The ratings by and of the driver are highly correlated, probably because the user and the drivers share the same experience. Obviously, surge percentage and average surge are strongly correlated.\n",
    "\n",
    "There seems to be a correlation between ever using Uber Black during the first 30 days and retention.\n",
    "\n"
   ]
  },
  {
   "cell_type": "code",
   "execution_count": 38,
   "metadata": {
    "collapsed": false
   },
   "outputs": [
    {
     "data": {
      "text/html": [
       "<div>\n",
       "<table border=\"1\" class=\"dataframe\">\n",
       "  <thead>\n",
       "    <tr style=\"text-align: right;\">\n",
       "      <th></th>\n",
       "      <th>avg_dist</th>\n",
       "      <th>avg_rating_by_driver</th>\n",
       "      <th>avg_rating_of_driver</th>\n",
       "      <th>avg_surge</th>\n",
       "      <th>surge_pct</th>\n",
       "      <th>trips_in_first_30_days</th>\n",
       "      <th>uber_black_user</th>\n",
       "      <th>weekday_pct</th>\n",
       "      <th>retained</th>\n",
       "      <th>inactive</th>\n",
       "    </tr>\n",
       "  </thead>\n",
       "  <tbody>\n",
       "    <tr>\n",
       "      <th>avg_dist</th>\n",
       "      <td>1.000000</td>\n",
       "      <td>0.069888</td>\n",
       "      <td>0.019367</td>\n",
       "      <td>-0.073912</td>\n",
       "      <td>-0.076056</td>\n",
       "      <td>-0.053858</td>\n",
       "      <td>0.030138</td>\n",
       "      <td>0.061672</td>\n",
       "      <td>-0.005475</td>\n",
       "      <td>0.005475</td>\n",
       "    </tr>\n",
       "    <tr>\n",
       "      <th>avg_rating_by_driver</th>\n",
       "      <td>0.069888</td>\n",
       "      <td>1.000000</td>\n",
       "      <td>0.171188</td>\n",
       "      <td>-0.175682</td>\n",
       "      <td>-0.155399</td>\n",
       "      <td>-0.239427</td>\n",
       "      <td>-0.056930</td>\n",
       "      <td>0.000915</td>\n",
       "      <td>-0.242463</td>\n",
       "      <td>0.242463</td>\n",
       "    </tr>\n",
       "    <tr>\n",
       "      <th>avg_rating_of_driver</th>\n",
       "      <td>0.019367</td>\n",
       "      <td>0.171188</td>\n",
       "      <td>1.000000</td>\n",
       "      <td>-0.069685</td>\n",
       "      <td>-0.055247</td>\n",
       "      <td>-0.120590</td>\n",
       "      <td>-0.020892</td>\n",
       "      <td>-0.002232</td>\n",
       "      <td>-0.083998</td>\n",
       "      <td>0.083998</td>\n",
       "    </tr>\n",
       "    <tr>\n",
       "      <th>avg_surge</th>\n",
       "      <td>-0.073912</td>\n",
       "      <td>-0.175682</td>\n",
       "      <td>-0.069685</td>\n",
       "      <td>1.000000</td>\n",
       "      <td>0.879619</td>\n",
       "      <td>0.236306</td>\n",
       "      <td>0.050749</td>\n",
       "      <td>-0.036151</td>\n",
       "      <td>0.281272</td>\n",
       "      <td>-0.281272</td>\n",
       "    </tr>\n",
       "    <tr>\n",
       "      <th>surge_pct</th>\n",
       "      <td>-0.076056</td>\n",
       "      <td>-0.155399</td>\n",
       "      <td>-0.055247</td>\n",
       "      <td>0.879619</td>\n",
       "      <td>1.000000</td>\n",
       "      <td>0.214935</td>\n",
       "      <td>0.034942</td>\n",
       "      <td>-0.042047</td>\n",
       "      <td>0.262852</td>\n",
       "      <td>-0.262852</td>\n",
       "    </tr>\n",
       "    <tr>\n",
       "      <th>trips_in_first_30_days</th>\n",
       "      <td>-0.053858</td>\n",
       "      <td>-0.239427</td>\n",
       "      <td>-0.120590</td>\n",
       "      <td>0.236306</td>\n",
       "      <td>0.214935</td>\n",
       "      <td>1.000000</td>\n",
       "      <td>0.059717</td>\n",
       "      <td>0.014627</td>\n",
       "      <td>0.149852</td>\n",
       "      <td>-0.149852</td>\n",
       "    </tr>\n",
       "    <tr>\n",
       "      <th>uber_black_user</th>\n",
       "      <td>0.030138</td>\n",
       "      <td>-0.056930</td>\n",
       "      <td>-0.020892</td>\n",
       "      <td>0.050749</td>\n",
       "      <td>0.034942</td>\n",
       "      <td>0.059717</td>\n",
       "      <td>1.000000</td>\n",
       "      <td>0.008396</td>\n",
       "      <td>0.192303</td>\n",
       "      <td>-0.192303</td>\n",
       "    </tr>\n",
       "    <tr>\n",
       "      <th>weekday_pct</th>\n",
       "      <td>0.061672</td>\n",
       "      <td>0.000915</td>\n",
       "      <td>-0.002232</td>\n",
       "      <td>-0.036151</td>\n",
       "      <td>-0.042047</td>\n",
       "      <td>0.014627</td>\n",
       "      <td>0.008396</td>\n",
       "      <td>1.000000</td>\n",
       "      <td>0.005131</td>\n",
       "      <td>-0.005131</td>\n",
       "    </tr>\n",
       "    <tr>\n",
       "      <th>retained</th>\n",
       "      <td>-0.005475</td>\n",
       "      <td>-0.242463</td>\n",
       "      <td>-0.083998</td>\n",
       "      <td>0.281272</td>\n",
       "      <td>0.262852</td>\n",
       "      <td>0.149852</td>\n",
       "      <td>0.192303</td>\n",
       "      <td>0.005131</td>\n",
       "      <td>1.000000</td>\n",
       "      <td>-1.000000</td>\n",
       "    </tr>\n",
       "    <tr>\n",
       "      <th>inactive</th>\n",
       "      <td>0.005475</td>\n",
       "      <td>0.242463</td>\n",
       "      <td>0.083998</td>\n",
       "      <td>-0.281272</td>\n",
       "      <td>-0.262852</td>\n",
       "      <td>-0.149852</td>\n",
       "      <td>-0.192303</td>\n",
       "      <td>-0.005131</td>\n",
       "      <td>-1.000000</td>\n",
       "      <td>1.000000</td>\n",
       "    </tr>\n",
       "  </tbody>\n",
       "</table>\n",
       "</div>"
      ],
      "text/plain": [
       "                        avg_dist  avg_rating_by_driver  avg_rating_of_driver  \\\n",
       "avg_dist                1.000000              0.069888              0.019367   \n",
       "avg_rating_by_driver    0.069888              1.000000              0.171188   \n",
       "avg_rating_of_driver    0.019367              0.171188              1.000000   \n",
       "avg_surge              -0.073912             -0.175682             -0.069685   \n",
       "surge_pct              -0.076056             -0.155399             -0.055247   \n",
       "trips_in_first_30_days -0.053858             -0.239427             -0.120590   \n",
       "uber_black_user         0.030138             -0.056930             -0.020892   \n",
       "weekday_pct             0.061672              0.000915             -0.002232   \n",
       "retained               -0.005475             -0.242463             -0.083998   \n",
       "inactive                0.005475              0.242463              0.083998   \n",
       "\n",
       "                        avg_surge  surge_pct  trips_in_first_30_days  \\\n",
       "avg_dist                -0.073912  -0.076056               -0.053858   \n",
       "avg_rating_by_driver    -0.175682  -0.155399               -0.239427   \n",
       "avg_rating_of_driver    -0.069685  -0.055247               -0.120590   \n",
       "avg_surge                1.000000   0.879619                0.236306   \n",
       "surge_pct                0.879619   1.000000                0.214935   \n",
       "trips_in_first_30_days   0.236306   0.214935                1.000000   \n",
       "uber_black_user          0.050749   0.034942                0.059717   \n",
       "weekday_pct             -0.036151  -0.042047                0.014627   \n",
       "retained                 0.281272   0.262852                0.149852   \n",
       "inactive                -0.281272  -0.262852               -0.149852   \n",
       "\n",
       "                        uber_black_user  weekday_pct  retained  inactive  \n",
       "avg_dist                       0.030138     0.061672 -0.005475  0.005475  \n",
       "avg_rating_by_driver          -0.056930     0.000915 -0.242463  0.242463  \n",
       "avg_rating_of_driver          -0.020892    -0.002232 -0.083998  0.083998  \n",
       "avg_surge                      0.050749    -0.036151  0.281272 -0.281272  \n",
       "surge_pct                      0.034942    -0.042047  0.262852 -0.262852  \n",
       "trips_in_first_30_days         0.059717     0.014627  0.149852 -0.149852  \n",
       "uber_black_user                1.000000     0.008396  0.192303 -0.192303  \n",
       "weekday_pct                    0.008396     1.000000  0.005131 -0.005131  \n",
       "retained                       0.192303     0.005131  1.000000 -1.000000  \n",
       "inactive                      -0.192303    -0.005131 -1.000000  1.000000  "
      ]
     },
     "execution_count": 38,
     "metadata": {},
     "output_type": "execute_result"
    }
   ],
   "source": [
    "data.corr()"
   ]
  },
  {
   "cell_type": "markdown",
   "metadata": {},
   "source": [
    "# Predictive Model\n",
    "\n",
    "In our approach, the only variables that are not taken into account in our model are the dates.\n"
   ]
  },
  {
   "cell_type": "code",
   "execution_count": 17,
   "metadata": {
    "collapsed": false
   },
   "outputs": [],
   "source": [
    "y,X=dmatrices('retained ~uber_black_user+trips_in_first_30_days+surge_pct+avg_surge+city+phone+avg_dist+weekday_pct+avg_rating_by_driver+avg_rating_of_driver',data,return_type=\"dataframe\")\n",
    "y = y['retained[True]']"
   ]
  },
  {
   "cell_type": "markdown",
   "metadata": {
    "collapsed": false
   },
   "source": [
    "## Simple Logistic Regression\n",
    "\n",
    "\n",
    "The idea is to estimate the probability of retention. We will first fit  a logistic regression model to all the data, and try to understand the impact of each factors."
   ]
  },
  {
   "cell_type": "code",
   "execution_count": 46,
   "metadata": {
    "collapsed": false
   },
   "outputs": [
    {
     "name": "stdout",
     "output_type": "stream",
     "text": [
      "Optimization terminated successfully.\n",
      "         Current function value: 0.570736\n",
      "         Iterations 6\n"
     ]
    },
    {
     "data": {
      "text/html": [
       "<table class=\"simpletable\">\n",
       "<caption>Logit Regression Results</caption>\n",
       "<tr>\n",
       "  <th>Dep. Variable:</th>  <td>retained[True]</td>  <th>  No. Observations:  </th>  <td> 41445</td> \n",
       "</tr>\n",
       "<tr>\n",
       "  <th>Model:</th>               <td>Logit</td>      <th>  Df Residuals:      </th>  <td> 41433</td> \n",
       "</tr>\n",
       "<tr>\n",
       "  <th>Method:</th>               <td>MLE</td>       <th>  Df Model:          </th>  <td>    11</td> \n",
       "</tr>\n",
       "<tr>\n",
       "  <th>Date:</th>          <td>Thu, 25 Aug 2016</td> <th>  Pseudo R-squ.:     </th>  <td>0.1572</td> \n",
       "</tr>\n",
       "<tr>\n",
       "  <th>Time:</th>              <td>10:24:34</td>     <th>  Log-Likelihood:    </th> <td> -23654.</td>\n",
       "</tr>\n",
       "<tr>\n",
       "  <th>converged:</th>           <td>True</td>       <th>  LL-Null:           </th> <td> -28068.</td>\n",
       "</tr>\n",
       "<tr>\n",
       "  <th> </th>                      <td> </td>        <th>  LLR p-value:       </th>  <td> 0.000</td> \n",
       "</tr>\n",
       "</table>\n",
       "<table class=\"simpletable\">\n",
       "<tr>\n",
       "             <td></td>                <th>coef</th>     <th>std err</th>      <th>z</th>      <th>P>|z|</th> <th>[95.0% Conf. Int.]</th> \n",
       "</tr>\n",
       "<tr>\n",
       "  <th>Intercept</th>               <td>   -0.7188</td> <td>    0.180</td> <td>   -3.985</td> <td> 0.000</td> <td>   -1.072    -0.365</td>\n",
       "</tr>\n",
       "<tr>\n",
       "  <th>uber_black_user[T.True]</th> <td>    0.9128</td> <td>    0.023</td> <td>   39.505</td> <td> 0.000</td> <td>    0.867     0.958</td>\n",
       "</tr>\n",
       "<tr>\n",
       "  <th>city[T.King's Landing]</th>  <td>    1.7008</td> <td>    0.032</td> <td>   52.886</td> <td> 0.000</td> <td>    1.638     1.764</td>\n",
       "</tr>\n",
       "<tr>\n",
       "  <th>city[T.Winterfell]</th>      <td>    0.5341</td> <td>    0.026</td> <td>   20.310</td> <td> 0.000</td> <td>    0.483     0.586</td>\n",
       "</tr>\n",
       "<tr>\n",
       "  <th>phone[T.iPhone]</th>         <td>    1.1043</td> <td>    0.026</td> <td>   41.697</td> <td> 0.000</td> <td>    1.052     1.156</td>\n",
       "</tr>\n",
       "<tr>\n",
       "  <th>trips_in_first_30_days</th>  <td>    0.1041</td> <td>    0.003</td> <td>   29.866</td> <td> 0.000</td> <td>    0.097     0.111</td>\n",
       "</tr>\n",
       "<tr>\n",
       "  <th>surge_pct</th>               <td>    0.0043</td> <td>    0.001</td> <td>    4.137</td> <td> 0.000</td> <td>    0.002     0.006</td>\n",
       "</tr>\n",
       "<tr>\n",
       "  <th>avg_surge</th>               <td>   -0.2534</td> <td>    0.097</td> <td>   -2.611</td> <td> 0.009</td> <td>   -0.444    -0.063</td>\n",
       "</tr>\n",
       "<tr>\n",
       "  <th>avg_dist</th>                <td>   -0.0381</td> <td>    0.002</td> <td>  -15.665</td> <td> 0.000</td> <td>   -0.043    -0.033</td>\n",
       "</tr>\n",
       "<tr>\n",
       "  <th>weekday_pct</th>             <td>   -0.0001</td> <td>    0.000</td> <td>   -0.431</td> <td> 0.666</td> <td>   -0.001     0.001</td>\n",
       "</tr>\n",
       "<tr>\n",
       "  <th>avg_rating_by_driver</th>    <td>   -0.2176</td> <td>    0.027</td> <td>   -7.982</td> <td> 0.000</td> <td>   -0.271    -0.164</td>\n",
       "</tr>\n",
       "<tr>\n",
       "  <th>avg_rating_of_driver</th>    <td>   -0.0491</td> <td>    0.018</td> <td>   -2.697</td> <td> 0.007</td> <td>   -0.085    -0.013</td>\n",
       "</tr>\n",
       "</table>"
      ],
      "text/plain": [
       "<class 'statsmodels.iolib.summary.Summary'>\n",
       "\"\"\"\n",
       "                           Logit Regression Results                           \n",
       "==============================================================================\n",
       "Dep. Variable:         retained[True]   No. Observations:                41445\n",
       "Model:                          Logit   Df Residuals:                    41433\n",
       "Method:                           MLE   Df Model:                           11\n",
       "Date:                Thu, 25 Aug 2016   Pseudo R-squ.:                  0.1572\n",
       "Time:                        10:24:34   Log-Likelihood:                -23654.\n",
       "converged:                       True   LL-Null:                       -28068.\n",
       "                                        LLR p-value:                     0.000\n",
       "===========================================================================================\n",
       "                              coef    std err          z      P>|z|      [95.0% Conf. Int.]\n",
       "-------------------------------------------------------------------------------------------\n",
       "Intercept                  -0.7188      0.180     -3.985      0.000        -1.072    -0.365\n",
       "uber_black_user[T.True]     0.9128      0.023     39.505      0.000         0.867     0.958\n",
       "city[T.King's Landing]      1.7008      0.032     52.886      0.000         1.638     1.764\n",
       "city[T.Winterfell]          0.5341      0.026     20.310      0.000         0.483     0.586\n",
       "phone[T.iPhone]             1.1043      0.026     41.697      0.000         1.052     1.156\n",
       "trips_in_first_30_days      0.1041      0.003     29.866      0.000         0.097     0.111\n",
       "surge_pct                   0.0043      0.001      4.137      0.000         0.002     0.006\n",
       "avg_surge                  -0.2534      0.097     -2.611      0.009        -0.444    -0.063\n",
       "avg_dist                   -0.0381      0.002    -15.665      0.000        -0.043    -0.033\n",
       "weekday_pct                -0.0001      0.000     -0.431      0.666        -0.001     0.001\n",
       "avg_rating_by_driver       -0.2176      0.027     -7.982      0.000        -0.271    -0.164\n",
       "avg_rating_of_driver       -0.0491      0.018     -2.697      0.007        -0.085    -0.013\n",
       "===========================================================================================\n",
       "\"\"\""
      ]
     },
     "execution_count": 46,
     "metadata": {},
     "output_type": "execute_result"
    }
   ],
   "source": [
    "LR=sm.Logit(y,X)\n",
    "results=LR.fit()\n",
    "results.summary()"
   ]
  },
  {
   "cell_type": "markdown",
   "metadata": {
    "collapsed": false
   },
   "source": [
    "We notice that, at a 0.05 significance level, the variable \"weekday_pct\" is statistically insignificant with the logistic regression model.\n",
    "\n",
    "Again, we see that King's Landing has an impact on retention with a log-odd increase of 1.70. \n",
    "\n",
    "We also notice that the \"iPhone factor\" drives retention. Moreover, having used a uber black during the first 30 days is a good predictor for retention."
   ]
  },
  {
   "cell_type": "markdown",
   "metadata": {
    "collapsed": false
   },
   "source": [
    "## Log Regression + Elastic Net\n",
    "\n",
    "\n",
    "We saw before that some of the predictors are highly correlated. A possible solution to this problem is to penalize the logistic regression.\n",
    "\n",
    "We will apply a Elastic Net regularization, which linearly combines Ridge Regression (L2 penalty) and Lasso (L1 penalty) : $$ L = \\alpha\\cdot\\rho||\\beta||_1+\\frac{\\alpha\\cdot(1-\\rho)}{2}||\\beta||_2^2   $$\n",
    "$\\beta$ is the vector of coefficients + offset, $\\alpha$ is the Elastic Net penalty coefficient, $\\rho$ is the L1 ratio.\n",
    "\n",
    "To have regularization, the data need to be scaled. However, the data contain many outliers, scaling using the mean and variance is likely to not work very well. The alternative is to use the \"robust_scale\" function, which centers to the median and component wise scales according to the interquartile range.\n",
    "\n",
    "After scaling, we split the data into a train set (70% of th dataset) and a test set."
   ]
  },
  {
   "cell_type": "code",
   "execution_count": 37,
   "metadata": {
    "collapsed": false
   },
   "outputs": [],
   "source": [
    "X_norm = robust_scale(X)\n",
    "X_train,X_test,y_train,y_test = train_test_split(X_norm,y\n",
    "                                                 ,test_size = 0.3\n",
    "                                                 ,random_state=6)"
   ]
  },
  {
   "cell_type": "markdown",
   "metadata": {},
   "source": [
    "The log regression with elastic net will be trained using a stochastic gradient descent. The parameters $\\alpha, \\rho$ are set after a grid search measuring the score of a 10-fold cross-validation."
   ]
  },
  {
   "cell_type": "code",
   "execution_count": 38,
   "metadata": {
    "collapsed": false
   },
   "outputs": [
    {
     "data": {
      "text/plain": [
       "GridSearchCV(cv=10, error_score='raise',\n",
       "       estimator=SGDClassifier(alpha=0.0001, average=False, class_weight=None, epsilon=0.1,\n",
       "       eta0=0.0, fit_intercept=True, l1_ratio=0.15,\n",
       "       learning_rate='optimal', loss='log', n_iter=5, n_jobs=1,\n",
       "       penalty='elasticnet', power_t=0.5, random_state=None, shuffle=True,\n",
       "       verbose=0, warm_start=False),\n",
       "       fit_params={}, iid=True, n_jobs=1,\n",
       "       param_grid={'random_state': [0], 'alpha': [0.001, 0.0001, 1e-05, 1e-06], 'l1_ratio': [0, 0.1, 0.25, 0.5, 0.75, 0.9, 1]},\n",
       "       pre_dispatch='2*n_jobs', refit=True, scoring=None, verbose=0)"
      ]
     },
     "execution_count": 38,
     "metadata": {},
     "output_type": "execute_result"
    }
   ],
   "source": [
    "parameters = {\n",
    "    'random_state' : [0],\n",
    "    'alpha': [0.001, 0.0001, 0.00001, 0.000001],\n",
    "    'l1_ratio' : [0,0.1,0.25,0.5,0.75,0.9,1],\n",
    "}\n",
    "grid_search = GridSearchCV(SGDClassifier(penalty='elasticnet',loss='log'),\n",
    "                           parameters,cv=10)\n",
    "grid_search.fit(X_train,y_train)"
   ]
  },
  {
   "cell_type": "code",
   "execution_count": 45,
   "metadata": {
    "collapsed": false
   },
   "outputs": [
    {
     "name": "stdout",
     "output_type": "stream",
     "text": [
      "{'average': False, 'l1_ratio': 0.5, 'verbose': 0, 'n_jobs': 1, 'loss': 'log', 'epsilon': 0.1, 'eta0': 0.0, 'power_t': 0.5, 'learning_rate': 'optimal', 'class_weight': None, 'random_state': 0, 'warm_start': False, 'alpha': 0.001, 'n_iter': 5, 'shuffle': True, 'fit_intercept': True, 'penalty': 'elasticnet'}\n",
      "0.700630795216\n"
     ]
    }
   ],
   "source": [
    "best_parameters = grid_search.best_estimator_.get_params()\n",
    "print(best_parameters)\n",
    "print(grid_search.best_score_)"
   ]
  },
  {
   "cell_type": "markdown",
   "metadata": {},
   "source": [
    "The best parameters are $\\alpha = 0.001$ and $\\rho = 0.5$. The mean accuracy of the 10-fold cross-validation for the best model is about 70%.\n",
    "\n",
    "The coefficients are displayed below."
   ]
  },
  {
   "cell_type": "code",
   "execution_count": 47,
   "metadata": {
    "collapsed": false
   },
   "outputs": [
    {
     "data": {
      "text/html": [
       "<div>\n",
       "<table border=\"1\" class=\"dataframe\">\n",
       "  <thead>\n",
       "    <tr style=\"text-align: right;\">\n",
       "      <th></th>\n",
       "      <th>Intercept</th>\n",
       "      <th>uber_black_user[T.True]</th>\n",
       "      <th>city[T.King's Landing]</th>\n",
       "      <th>city[T.Winterfell]</th>\n",
       "      <th>phone[T.iPhone]</th>\n",
       "      <th>trips_in_first_30_days</th>\n",
       "      <th>surge_pct</th>\n",
       "      <th>avg_surge</th>\n",
       "      <th>avg_dist</th>\n",
       "      <th>weekday_pct</th>\n",
       "      <th>avg_rating_by_driver</th>\n",
       "      <th>avg_rating_of_driver</th>\n",
       "    </tr>\n",
       "  </thead>\n",
       "  <tbody>\n",
       "    <tr>\n",
       "      <th>0</th>\n",
       "      <td>0.0</td>\n",
       "      <td>0.876283</td>\n",
       "      <td>1.696137</td>\n",
       "      <td>0.607665</td>\n",
       "      <td>1.037232</td>\n",
       "      <td>0.334555</td>\n",
       "      <td>0.0</td>\n",
       "      <td>-0.02024</td>\n",
       "      <td>-0.172961</td>\n",
       "      <td>0.0</td>\n",
       "      <td>-0.063691</td>\n",
       "      <td>0.0</td>\n",
       "    </tr>\n",
       "  </tbody>\n",
       "</table>\n",
       "</div>"
      ],
      "text/plain": [
       "   Intercept  uber_black_user[T.True]  city[T.King's Landing]  \\\n",
       "0        0.0                 0.876283                1.696137   \n",
       "\n",
       "   city[T.Winterfell]  phone[T.iPhone]  trips_in_first_30_days  surge_pct  \\\n",
       "0            0.607665         1.037232                0.334555        0.0   \n",
       "\n",
       "   avg_surge  avg_dist  weekday_pct  avg_rating_by_driver  \\\n",
       "0   -0.02024 -0.172961          0.0             -0.063691   \n",
       "\n",
       "   avg_rating_of_driver  \n",
       "0                   0.0  "
      ]
     },
     "execution_count": 47,
     "metadata": {},
     "output_type": "execute_result"
    }
   ],
   "source": [
    "elastic = SGDClassifier(**best_parameters)\n",
    "elastic.fit(X_train,y_train)\n",
    "y_pred = grid_search.predict(X_test)\n",
    "\n",
    "pd.DataFrame(elastic.coef_,columns=X.columns)"
   ]
  },
  {
   "cell_type": "markdown",
   "metadata": {},
   "source": [
    "The coefficients of the log-regression still prove the impact of the King's Landing, Uber Black and Iphone factors. \n",
    "\n",
    "The odds that a user from King's Landing  is active are marginally $e^{1.6961} \\approx 545\\%$ of the odds that a user from Astapor is retained. \n",
    "\n",
    "Surprisingly, the factors related to surge do not truly impact on retention. Average distance also drives away users. This can be explained by cases where users experienced unoptimized itineraries.\n",
    "\n",
    "We also notice that the coefficient for average surge, weekday percentage and average rating are equal to 0. The Lasso component indeed encourages sparse estimates and removes components that are highly correlated to others. Lasso can be used for feature selection."
   ]
  },
  {
   "cell_type": "markdown",
   "metadata": {},
   "source": [
    "## Model performance\n",
    "\n",
    "\n",
    "We can evaluate our model on the test set. Below are reported the condusion matrix, the precision/recall and F1 scores. \n",
    "\n",
    "The error rate is 29%."
   ]
  },
  {
   "cell_type": "code",
   "execution_count": 48,
   "metadata": {
    "collapsed": false
   },
   "outputs": [
    {
     "name": "stdout",
     "output_type": "stream",
     "text": [
      "[[6006 2304]\n",
      " [1352 2772]]\n",
      "             precision    recall  f1-score   support\n",
      "\n",
      "        0.0      0.816     0.723     0.767      8310\n",
      "        1.0      0.546     0.672     0.603      4124\n",
      "\n",
      "avg / total      0.727     0.706     0.712     12434\n",
      "\n",
      "0.29403249155541256\n"
     ]
    }
   ],
   "source": [
    "print(confusion_matrix(y_pred,y_test))\n",
    "print (classification_report(y_pred,y_test ,digits=3))\n",
    "print(np.mean(abs(y_pred-y_test)))"
   ]
  },
  {
   "cell_type": "markdown",
   "metadata": {},
   "source": [
    "## Alternatives considered\n",
    "\n",
    "\n",
    "Another way to estimate the probability of retention is to use Neural Networks. A good solution would be a MultiLayer  Perceptron (MLP) with a softmax activation function for the output. The softmax output can indeed be considered as a probability distribution over a finite set of outcomes.\n",
    "\n",
    "The perfomance of the MLP model would be compared with the performance of the Log Regression + Elastic Net. \n",
    "\n",
    "However, the MLP function on scikit learn is not available yet and there are no python packages with built-in MLP."
   ]
  },
  {
   "cell_type": "markdown",
   "metadata": {},
   "source": [
    "# Insights\n",
    "\n",
    "\n",
    "Based on our model, we see that King’s Landing is a good market for Uber whereas Astapor is not. \n",
    "\n",
    "Another good insight is the type of phone. The odds of being active for a iPhone user is marginally $e^{1.04}-1\\approx183\\%$ more than the odds for a Android user. Therefore Uber needs to investigate on the Android user experience, and try  to modify the design of the Android app to make it more attractive.\n",
    "\n",
    "\n",
    "The factor uber_black_user is also a good predictor for retention.\n",
    "Then a good initiative for Uber would be to offer new users a free ride on Uber Black.\n",
    "\n",
    "The average rating of the driver is also an indictor of retention. Suprisingly, the average distance negatively impacts on being active. Theses two predictors emphasize the quality of the ride as a key factor. Users are taking Uber to have a pleasant and efficient ride. Extreme cases of bad experience with a driver or an itinerary longer than usual will drive away users. Another interesting metrics to consider  would have been the average time of a ride and the average ETA.\n",
    "To avoid bad ride experience making the user quit the app, Uber needs to enable communication through a detailed feedback.\n",
    "\n",
    "\n",
    "\n",
    "\n"
   ]
  },
  {
   "cell_type": "code",
   "execution_count": null,
   "metadata": {
    "collapsed": true
   },
   "outputs": [],
   "source": []
  }
 ],
 "metadata": {
  "kernelspec": {
   "display_name": "Python 3",
   "language": "python",
   "name": "python3"
  },
  "language_info": {
   "codemirror_mode": {
    "name": "ipython",
    "version": 3
   },
   "file_extension": ".py",
   "mimetype": "text/x-python",
   "name": "python",
   "nbconvert_exporter": "python",
   "pygments_lexer": "ipython3",
   "version": "3.4.5"
  },
  "widgets": {
   "state": {},
   "version": "1.1.1"
  }
 },
 "nbformat": 4,
 "nbformat_minor": 0
}
